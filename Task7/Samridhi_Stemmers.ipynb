{
 "cells": [
  {
   "cell_type": "markdown",
   "metadata": {},
   "source": [
    "# Task - 7 (Samridhi Murarka)"
   ]
  },
  {
   "cell_type": "markdown",
   "metadata": {},
   "source": [
    "## 7.1 Stemming\n",
    "##### Porter Stemmer"
   ]
  },
  {
   "cell_type": "code",
   "execution_count": 1,
   "metadata": {},
   "outputs": [],
   "source": [
    "import nltk"
   ]
  },
  {
   "cell_type": "code",
   "execution_count": 2,
   "metadata": {},
   "outputs": [
    {
     "data": {
      "text/plain": [
       "'happi'"
      ]
     },
     "execution_count": 2,
     "metadata": {},
     "output_type": "execute_result"
    }
   ],
   "source": [
    "from nltk.stem import PorterStemmer \n",
    "sp = PorterStemmer() \n",
    "sp.stem('happiness')"
   ]
  },
  {
   "cell_type": "markdown",
   "metadata": {},
   "source": [
    "##### Lancaster Stemmer"
   ]
  },
  {
   "cell_type": "code",
   "execution_count": 4,
   "metadata": {},
   "outputs": [
    {
     "data": {
      "text/plain": [
       "'happy'"
      ]
     },
     "execution_count": 4,
     "metadata": {},
     "output_type": "execute_result"
    }
   ],
   "source": [
    "from nltk.stem import LancasterStemmer \n",
    "stemmerLan =LancasterStemmer() \n",
    "#stemmerLan.stem('working') \n",
    "stemmerLan.stem('happiness')"
   ]
  },
  {
   "cell_type": "markdown",
   "metadata": {},
   "source": [
    "##### Regexp Stemmer"
   ]
  },
  {
   "cell_type": "code",
   "execution_count": 6,
   "metadata": {},
   "outputs": [
    {
     "name": "stdout",
     "output_type": "stream",
     "text": [
      "Working -  Work\n",
      "Happiness -  Happi\n",
      "Takers -  Take\n",
      "Taker -  Take\n"
     ]
    }
   ],
   "source": [
    "from nltk.stem import RegexpStemmer \n",
    "stemmerregexp=RegexpStemmer('ing|ness') \n",
    "print(\"Working - \", stemmerregexp.stem('Working'))\n",
    "print(\"Happiness - \", stemmerregexp.stem('Happiness'))\n",
    "\n",
    "reg = RegexpStemmer('[$r|$s]')\n",
    "print(\"Takers - \" , reg.stem('Takers'))\n",
    "print(\"Taker - \" , reg.stem('Taker'))"
   ]
  },
  {
   "cell_type": "code",
   "execution_count": 19,
   "metadata": {},
   "outputs": [
    {
     "name": "stdout",
     "output_type": "stream",
     "text": [
      "S\n",
      "a\n",
      "m\n",
      "r\n",
      "i\n",
      "d\n",
      "h\n",
      "i\n"
     ]
    }
   ],
   "source": [
    "for i in \"Samridhi\":\n",
    "    print(\"{0}\".format(i))"
   ]
  },
  {
   "cell_type": "markdown",
   "metadata": {
    "collapsed": true
   },
   "source": [
    "##### Snowball Stemmer"
   ]
  },
  {
   "cell_type": "code",
   "execution_count": 7,
   "metadata": {},
   "outputs": [
    {
     "data": {
      "text/plain": [
       "'mang'"
      ]
     },
     "execution_count": 7,
     "metadata": {},
     "output_type": "execute_result"
    }
   ],
   "source": [
    "from nltk.stem import SnowballStemmer\n",
    "SnowballStemmer.languages\n",
    "frstemmer = SnowballStemmer('french')\n",
    "frstemmer.stem('manges')"
   ]
  },
  {
   "cell_type": "markdown",
   "metadata": {},
   "source": [
    "## Comparing Stemmers"
   ]
  },
  {
   "cell_type": "code",
   "execution_count": 9,
   "metadata": {},
   "outputs": [
    {
     "name": "stdout",
     "output_type": "stream",
     "text": [
      "1. Porter Stemmer:\n",
      "Bakers -  baker\n",
      "1. Lancaster Stemmer:\n",
      "Bakers -  bak\n",
      "1. Regexp Stemmer:\n",
      "Bakers -  bake\n",
      "1. SnowBall Stemmer:\n",
      "Bakers -  baker\n"
     ]
    }
   ],
   "source": [
    "print(\"1. Porter Stemmer:\\nBakers - \", sp.stem('bakers'))\n",
    "print(\"1. Lancaster Stemmer:\\nBakers - \", stemmerLan.stem('bakers'))\n",
    "print(\"1. Regexp Stemmer:\\nBakers - \", reg.stem('bakers'))\n",
    "enstemmer = SnowballStemmer('french')\n",
    "print(\"1. SnowBall Stemmer:\\nBakers - \", enstemmer.stem('bakers'))"
   ]
  }
 ],
 "metadata": {
  "kernelspec": {
   "display_name": "Python 3",
   "language": "python",
   "name": "python3"
  },
  "language_info": {
   "codemirror_mode": {
    "name": "ipython",
    "version": 3
   },
   "file_extension": ".py",
   "mimetype": "text/x-python",
   "name": "python",
   "nbconvert_exporter": "python",
   "pygments_lexer": "ipython3",
   "version": "3.7.6"
  }
 },
 "nbformat": 4,
 "nbformat_minor": 2
}
